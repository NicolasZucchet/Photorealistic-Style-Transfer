{
 "cells": [
  {
   "cell_type": "code",
   "execution_count": null,
   "metadata": {},
   "outputs": [
    {
     "name": "stdout",
     "output_type": "stream",
     "text": [
      "You have entered an experiment name that already exists even though you are not resuming that experiment, do you wish to continue (this will delete the folder: experiments/mytest2/). [y/n] y\n",
      "----- Experiments Parameters -----\n",
      "name : mytest2\n",
      "quick : False\n",
      "verbose : True\n",
      "no_metrics : False\n",
      "style_image : 1\n",
      "content_image : 1\n",
      "keep_params : False\n",
      "base_model : vgg19\n",
      "device : cpu\n",
      "content_layers : ['conv4_2']\n",
      "style_layers : ['conv1_1', 'conv2_1', 'conv3_1', 'conv4_1']\n",
      "num_epochs : 300\n",
      "style_weight : 1000000.0\n",
      "content_weight : 10000.0\n",
      "reg_weight : 0.0001\n",
      "optimizer : lbfgs\n",
      "lr : 1\n",
      "momentum : 0\n",
      "weight_decay : 0\n",
      "scheduler : plateau\n",
      "lr_step : 500\n",
      "lr_decay : 0\n",
      "seed : 42\n",
      "reg : False\n",
      "save_model : True\n",
      "resume_model : False\n",
      "load_name : \n",
      "work_dir : \n",
      "save_name : mytest2\n",
      "res_dir : experiments/mytest2/\n",
      "save_parameters_path : experiments/mytest2/save/parameters.json\n",
      "save_model_path : experiments/mytest2/save/model.pt\n",
      "save_experiment_path : experiments/mytest2/save/experiment.dat\n",
      "save_listener_path : experiments/mytest2/save/listener.json\n",
      "style_image_path : examples/style/tar1.png\n",
      "content_image_path : examples/input/in1.png\n",
      "seg_style_path : examples/segmentation/tar1.png\n",
      "seg_content_path : examples/segmentation/in1.png\n",
      "imsize : (512, 512)\n",
      " epoch    0: S: 280.311 C: 0.000 R: 0.000\n",
      " epoch   20: S: 264.252 C: 6.278 R: 0.000\n",
      " epoch   40: S: 247.678 C: 8.178 R: 0.000\n",
      " epoch   60: S: 235.551 C: 7.495 R: 0.000\n",
      " epoch   80: S: 222.625 C: 8.136 R: 0.000\n"
     ]
    }
   ],
   "source": [
    "from main import *\n",
    "import time\n",
    "\n",
    "experience = manual_mode(\"main.py -name mytest2 -verbose -device cpu -num_epochs 300 -no_reg\")\n",
    "\n",
    "experience.disp()\n",
    "\n",
    "start = time.time()\n",
    "\n",
    "experience.run()\n",
    "\n",
    "print(\"length :\",time.time()-start)\n",
    "\n",
    "experience.save()\n",
    "\n",
    "save_images(experience.parameters.res_dir+\"output.png\",exp.style_image,exp.input_image,exp.content_image)\n",
    "\n",
    "generate_plots(experience)"
   ]
  },
  {
   "cell_type": "code",
   "execution_count": null,
   "metadata": {},
   "outputs": [],
   "source": []
  }
 ],
 "metadata": {
  "kernelspec": {
   "display_name": "Python 3",
   "language": "python",
   "name": "python3"
  },
  "language_info": {
   "codemirror_mode": {
    "name": "ipython",
    "version": 3
   },
   "file_extension": ".py",
   "mimetype": "text/x-python",
   "name": "python",
   "nbconvert_exporter": "python",
   "pygments_lexer": "ipython3",
   "version": "3.6.5"
  }
 },
 "nbformat": 4,
 "nbformat_minor": 2
}
