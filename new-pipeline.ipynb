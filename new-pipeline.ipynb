{
 "cells": [
  {
   "cell_type": "markdown",
   "metadata": {
    "colab_type": "text",
    "id": "Ui3tPP4L-0dI"
   },
   "source": [
    "# Automatic style transfer\n",
    "\n",
    "The aim of this pipeline is to, given an image, find an image that have a similar content but a different style, and then apply a photorealistic style transfer.\n",
    "\n",
    "Several requirements are needed to run it:\n",
    " - run `python install.py`\n",
    " - a gpu (for the segmentation part)"
   ]
  },
  {
   "cell_type": "markdown",
   "metadata": {
    "colab_type": "text",
    "id": "md1cj4k98QN6"
   },
   "source": [
    "## Image segmentation\n",
    "\n",
    "### Model\n",
    "\n",
    "Image segmentation we will use is from the semantic-segmentation-pytorch project available here: https://github.com/CSAILVision/semantic-segmentation-pytorch.git (it is automatically downloaded by `install.py`)"
   ]
  },
  {
   "cell_type": "markdown",
   "metadata": {
    "colab_type": "text",
    "id": "FjFoZ_ydHEpN"
   },
   "source": [
    "## Segmentation zones content"
   ]
  },
  {
   "cell_type": "markdown",
   "metadata": {
    "colab_type": "text",
    "id": "0IcVXqyhbVuh"
   },
   "source": [
    "## Payasage transformation"
   ]
  },
  {
   "cell_type": "code",
   "execution_count": null,
   "metadata": {},
   "outputs": [],
   "source": [
    "from toolbox.path_setup import *\n",
    "from toolbox.segmentation import *"
   ]
  },
  {
   "cell_type": "code",
   "execution_count": null,
   "metadata": {
    "colab": {},
    "colab_type": "code",
    "id": "wZ4I74lmwRMq"
   },
   "outputs": [],
   "source": [
    "name_experiment = \"landscape\"\n",
    "_, images_path, _, _ = prepare_experiment(name_experiment)\n",
    "\n",
    "download_image('https://lemag.nikonclub.fr/wp-content/uploads/2017/07/08.jpg',images_path + '/landscape1.jpg')\n",
    "download_image('https://www.superprof.fr/blog/file/2017/12/choisir-paysage-photo.jpg',images_path+'/landscape2.jpg')\n",
    "download_image('https://www.geo.fr/var/geo/storage/images/voyages/vos-voyages-de-reve/namibie-a-travers-le-desert-grandiose-du-namib/route-de-cape-town-a-windhoek/1078719-1-fre-FR/route-de-cape-town-a-windhoek.jpg',images_path + '/landscape3.jpg')\n",
    "download_image('https://i.pinimg.com/originals/c2/83/2b/c2832b6b72709ad29731b91be002877d.jpg',images_path+'/landscapenight1.jpg')\n",
    "download_image('https://image.freepik.com/photos-gratuite/route-paysage-nuit-fond-galaxie-montagne-voie-lactee_34263-245.jpg',images_path+'/landscapenight2.jpg')\n",
    "download_image('http://4everstatic.com/images/dessins/digital-art/paysage-de-nuit,-lac,-reflexion,-lune,-ciel-etoile-197184.jpg',images_path+'/landscapenight3.jpg')               "
   ]
  },
  {
   "cell_type": "code",
   "execution_count": null,
   "metadata": {
    "colab": {
     "base_uri": "https://localhost:8080/",
     "height": 368
    },
    "colab_type": "code",
    "id": "3U8qrfCg-gZs",
    "outputId": "821dc419-aecc-43e5-899e-a7b851889695"
   },
   "outputs": [],
   "source": [
    "img=mpimg.imread(images_path + \"/landscape2.jpg\")\n",
    "plt.imshow(img)"
   ]
  },
  {
   "cell_type": "code",
   "execution_count": null,
   "metadata": {
    "colab": {
     "base_uri": "https://localhost:8080/",
     "height": 618
    },
    "colab_type": "code",
    "id": "E7Qv74Vaw3yn",
    "outputId": "116a11fd-fde5-4b08-8d1f-f49d3ac45456"
   },
   "outputs": [],
   "source": [
    "images = ['landscape12.jpg','landscapenight14.jpg']\n",
    "cli, masks, results = generate_segmentation_cli(name_experiment,images)\n",
    "! cd semsegpt; python $cli\n",
    "\n",
    "for image in images:\n",
    "    res_path = results + \"/\" + image[:-4] + '.png'\n",
    "    save_segmentation(res_path, masks)"
   ]
  },
  {
   "cell_type": "code",
   "execution_count": null,
   "metadata": {
    "colab": {
     "base_uri": "https://localhost:8080/",
     "height": 404
    },
    "colab_type": "code",
    "id": "Oj45lXXH7wAc",
    "outputId": "f4f568f7-c76a-4254-f3e9-d646aa2a156e"
   },
   "outputs": [],
   "source": [
    "plot_segmented_images(results,images)"
   ]
  },
  {
   "cell_type": "code",
   "execution_count": null,
   "metadata": {},
   "outputs": [],
   "source": [
    "topics = get_all_topics(mpimg.imread(\"examples/paysage/masks/paysage2.png\"),k=2)"
   ]
  },
  {
   "cell_type": "markdown",
   "metadata": {},
   "source": [
    "## Choosing best mate"
   ]
  },
  {
   "cell_type": "code",
   "execution_count": null,
   "metadata": {},
   "outputs": [],
   "source": [
    "import toolbox.google_image_scrapper as scrap\n",
    "import toolbox.compute_content_losses as ccl\n",
    "from toolbox.segmentation import *\n",
    "\n",
    "image = \"examples/paysage/images/paysage1.jpg\""
   ]
  },
  {
   "cell_type": "code",
   "execution_count": null,
   "metadata": {},
   "outputs": [],
   "source": [
    "search = get_all_topics(mpimg.imread(\"examples/paysage/masks/paysage1.png\"),k=2)\n",
    "print(search)"
   ]
  },
  {
   "cell_type": "code",
   "execution_count": null,
   "metadata": {},
   "outputs": [],
   "source": [
    "! ls examples/landscape/masks"
   ]
  },
  {
   "cell_type": "code",
   "execution_count": null,
   "metadata": {},
   "outputs": [],
   "source": [
    "list = [\"examples/landscape/masks/landscape1.png\", \n",
    "        \"examples/landscape/masks/landscape2.png\", \n",
    "        \"examples/landscape/masks/landscapenight1.png\",\n",
    "        \"examples/landscape/masks/landscapenight2.png\"]\n",
    "calc = ccl.Calculator(device=\"cuda\")\n",
    "print(calc.distance_matrix(list))"
   ]
  },
  {
   "cell_type": "code",
   "execution_count": null,
   "metadata": {},
   "outputs": [],
   "source": [
    "plt.imshow(calc.distance_matrix(list), cmap='hot', interpolation='nearest')"
   ]
  },
  {
   "cell_type": "markdown",
   "metadata": {
    "colab_type": "text",
    "id": "eVrUmwGjDooh"
   },
   "source": [
    "## Time to do some style transfer !"
   ]
  },
  {
   "cell_type": "code",
   "execution_count": 1,
   "metadata": {
    "colab": {
     "base_uri": "https://localhost:8080/",
     "height": 232
    },
    "colab_type": "code",
    "id": "h_WRceheELbc",
    "outputId": "fdb3c6d3-8e22-4977-c1e8-ffba1c9c6db8"
   },
   "outputs": [],
   "source": [
    "import torch\n",
    "import torchvision.models as models\n",
    "import os\n",
    "\n",
    "from toolbox.image_preprocessing import image_loader, masks_loader, plt_images\n",
    "os.chdir(\"styletransfer\")\n",
    "from neural_style import run_style_transfer\n",
    "os.chdir(\"..\")"
   ]
  },
  {
   "cell_type": "code",
   "execution_count": null,
   "metadata": {
    "colab": {},
    "colab_type": "code",
    "id": "Ckhs4JB_Itr7"
   },
   "outputs": [],
   "source": [
    "# pipelines bootstrapping\n",
    "from PIL import Image\n",
    "img = Image.open(\"experiments/paysage/images/paysage1.jpg\")\n",
    "img.save(\"examples/input/in3.png\", \"PNG\")\n",
    "img = Image.open(\"experiments/paysage/images/paysage_nuit1.jpg\")\n",
    "img.save(\"examples/style/tar3.png\", \"PNG\")\n",
    "!cp experiments/paysage/masks/paysage1.png examples/segmentation\n",
    "!mv examples/segmentation/paysage1.png examples/segmentation/in3.png\n",
    "!cp experiments/paysage/masks/paysage_nuit1.png examples/segmentation\n",
    "!mv examples/segmentation/paysage_nuit1.png examples/segmentation/tar3.png"
   ]
  },
  {
   "cell_type": "markdown",
   "metadata": {
    "colab_type": "text",
    "id": "U5hOjS2UclFY"
   },
   "source": [
    "### Define experience paramaters"
   ]
  },
  {
   "cell_type": "code",
   "execution_count": 13,
   "metadata": {
    "colab": {},
    "colab_type": "code",
    "id": "9i_ozuChDdYz"
   },
   "outputs": [],
   "source": [
    "import torch\n",
    "import torchvision.models as models\n",
    "import os\n",
    "\n",
    "from toolbox.image_preprocessing import image_loader, masks_loader, plt_images\n",
    "os.chdir(\"styletransfer\")\n",
    "from neural_style import run_style_transfer\n",
    "os.chdir(\"..\")\n",
    "\n",
    "name = \"5\"\n",
    "num_epochs = 500\n",
    "\n",
    "quick = False\n",
    "ghost  = False\n",
    "quiet = False\n",
    "\n",
    "content_index = 3\n",
    "style_index = 3\n",
    "device = 'cuda' if torch.cuda.is_available() else 'cpu'\n",
    "imsize = 256 if torch.cuda.is_available() else 128\n",
    "\n",
    "style_weight = 1e6\n",
    "content_weight = 1e2\n",
    "reg_weight = 1e-11\n",
    "\n",
    "content_layers = ['4_2']\n",
    "style_layers = ['1_1','2_1','3_1','4_1']\n",
    "\n",
    "optimizer = \"lbfgs\"\n",
    "learning_rate = 1\n",
    "momentum = 0.9\n",
    "weight_decay = 1e-3\n",
    "\n",
    "scheduler = \"step\"\n",
    "lr_step = 10000\n",
    "lr_decay = 5e-1\n",
    "\n",
    "query = \"main.py -name {} -device {} -num_epochs {} -style_image {} -content_image {} -imsize {} -style_weight {} -content_weight {} -reg_weight {} -content_layers {} -style_layers {} -optimizer {} -lr {} -momentum {} -weight_decay {} -scheduler {} -lr_step {} -lr_decay {}\".format(\n",
    "    name,\n",
    "    device,\n",
    "    num_epochs,\n",
    "    content_index,\n",
    "    style_index,\n",
    "    imsize,\n",
    "    style_weight,\n",
    "    content_weight,\n",
    "    reg_weight,\n",
    "    \" \".join(content_layers),\n",
    "    \" \".join(style_layers),\n",
    "    optimizer,\n",
    "    learning_rate,\n",
    "    momentum,\n",
    "    weight_decay,\n",
    "    scheduler,\n",
    "    lr_step,\n",
    "    lr_decay\n",
    "  )\n",
    "\n",
    "if quick:\n",
    "    query += \" -quick\"\n",
    "if ghost:\n",
    "    query += \" -ghost\"\n",
    "if quiet:\n",
    "    query += \" -quiet\""
   ]
  },
  {
   "cell_type": "code",
   "execution_count": null,
   "metadata": {},
   "outputs": [
    {
     "name": "stdout",
     "output_type": "stream",
     "text": [
      "You have entered an experiment name that already exists even though you are not resuming that experiment, do you wish to continue (this will delete the folder: experiments/5/). [y/n] y\n",
      "----- Experiments Parameters -----\n",
      "name : 5\n",
      "quick : False\n",
      "ghost : False\n",
      "no_metrics : False\n",
      "style_image : 3\n",
      "content_image : 3\n",
      "input_image : content\n",
      "imsize : (256, 256)\n",
      "keep_params : False\n",
      "base_model : vgg19\n",
      "device : cuda\n",
      "content_layers : ['conv4_2']\n",
      "style_layers : ['conv1_1', 'conv2_1', 'conv3_1', 'conv4_1']\n",
      "num_epochs : 500\n",
      "style_weight : 1000000.0\n",
      "content_weight : 100.0\n",
      "reg_weight : 1e-11\n",
      "optimizer : lbfgs\n",
      "lr : 1.0\n",
      "momentum : 0.9\n",
      "weight_decay : 0.001\n",
      "scheduler : step\n",
      "lr_step : 10000\n",
      "lr_decay : 0.5\n",
      "seed : 42\n",
      "no_log : False\n",
      "save_model : True\n",
      "verbose : True\n",
      "work_dir : \n",
      "save_name : 5\n",
      "res_dir : experiments/5/\n",
      "save_parameters_path : experiments/5/save/parameters.json\n",
      "save_model_path : experiments/5/save/model.pt\n",
      "save_experiment_path : experiments/5/save/experiment.dat\n",
      "save_listener_path : experiments/5/save/listener.json\n",
      "style_image_path : examples/style/tar3.png\n",
      "content_image_path : examples/input/in3.png\n",
      "seg_style_path : examples/segmentation/tar3.png\n",
      "seg_content_path : examples/segmentation/in3.png\n"
     ]
    }
   ],
   "source": [
    "from main import *\n",
    "\n",
    "%matplotlib inline\n",
    "\n",
    "experience = create_experience(query)\n",
    "\n",
    "parameters = experience[\"parameters\"]\n",
    "experiment = experience[\"experiment\"]\n",
    "listener = experience[\"listener\"]\n",
    "log = experience[\"log\"]\n",
    "optimizer = experience[\"optimizer\"]\n",
    "losses = experience[\"losses\"]\n",
    "model = experience[\"model\"] \n",
    "scheduler = experience[\"scheduler\"]\n",
    "\n",
    "run_experience(experiment, model, parameters, losses, optimizer, scheduler, listener, log)\n",
    "\n",
    "print()\n",
    "\n",
    "experiment.input_image.data.clamp_(0, 1)\n",
    "\n",
    "log.info(\"Done style transfering over \"+str(experiment.epoch)+\" epochs!\")\n",
    "\n",
    "if parameters.save_model:\n",
    "    save_all(experiment,model,parameters,listener)\n",
    "if not(parameters.ghost):\n",
    "    save_images(parameters.res_dir+\"output.png\",experiment.style_image,experiment.input_image,experiment.content_image)\n",
    "\n",
    "print(\"All done\")"
   ]
  },
  {
   "cell_type": "code",
   "execution_count": null,
   "metadata": {},
   "outputs": [],
   "source": [
    "plt_images(experiment.style_image,experiment.input_image,experiment.content_image)"
   ]
  },
  {
   "cell_type": "code",
   "execution_count": null,
   "metadata": {},
   "outputs": [],
   "source": [
    "if not(parameters.no_metrics):\n",
    "    generate_plots(parameters, listener)"
   ]
  },
  {
   "cell_type": "code",
   "execution_count": null,
   "metadata": {},
   "outputs": [],
   "source": []
  },
  {
   "cell_type": "code",
   "execution_count": null,
   "metadata": {},
   "outputs": [],
   "source": []
  },
  {
   "cell_type": "code",
   "execution_count": null,
   "metadata": {},
   "outputs": [],
   "source": []
  },
  {
   "cell_type": "code",
   "execution_count": null,
   "metadata": {},
   "outputs": [],
   "source": []
  },
  {
   "cell_type": "code",
   "execution_count": null,
   "metadata": {},
   "outputs": [],
   "source": []
  }
 ],
 "metadata": {
  "accelerator": "GPU",
  "colab": {
   "collapsed_sections": [],
   "name": "pipeline.ipynb",
   "provenance": [],
   "version": "0.3.2"
  },
  "kernelspec": {
   "display_name": "Python 3",
   "language": "python",
   "name": "python3"
  },
  "language_info": {
   "codemirror_mode": {
    "name": "ipython",
    "version": 3
   },
   "file_extension": ".py",
   "mimetype": "text/x-python",
   "name": "python",
   "nbconvert_exporter": "python",
   "pygments_lexer": "ipython3",
   "version": "3.7.1"
  }
 },
 "nbformat": 4,
 "nbformat_minor": 1
}
